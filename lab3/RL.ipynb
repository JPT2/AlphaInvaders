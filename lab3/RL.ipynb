{
  "cells": [
    {
      "cell_type": "markdown",
      "metadata": {
        "id": "view-in-github",
        "colab_type": "text"
      },
      "source": [
        "<a href=\"https://colab.research.google.com/github/JPT2/AlphaInvaders/blob/master/lab3/RL.ipynb\" target=\"_parent\"><img src=\"https://colab.research.google.com/assets/colab-badge.svg\" alt=\"Open In Colab\"/></a>"
      ]
    },
    {
      "cell_type": "markdown",
      "metadata": {
        "id": "jrI6q7RmWQam"
      },
      "source": [
        "<table align=\"center\">\n",
        "  <td align=\"center\"><a target=\"_blank\" href=\"http://introtodeeplearning.com\">\n",
        "        <img src=\"https://i.ibb.co/Jr88sn2/mit.png\" style=\"padding-bottom:5px;\" />\n",
        "      Visit MIT Deep Learning</a></td>\n",
        "  <td align=\"center\"><a target=\"_blank\" href=\"https://colab.research.google.com/github/aamini/introtodeeplearning/blob/master/lab3/RL.ipynb\">\n",
        "        <img src=\"https://i.ibb.co/2P3SLwK/colab.png\"  style=\"padding-bottom:5px;\" />Run in Google Colab</a></td>\n",
        "  <td align=\"center\"><a target=\"_blank\" href=\"https://github.com/aamini/introtodeeplearning/blob/master/lab3/RL.ipynb\">\n",
        "        <img src=\"https://i.ibb.co/xfJbPmL/github.png\"  height=\"70px\" style=\"padding-bottom:5px;\"  />View Source on GitHub</a></td>\n",
        "</table>\n",
        "\n",
        "# Copyright Information"
      ]
    },
    {
      "cell_type": "code",
      "execution_count": null,
      "metadata": {
        "id": "wkd375upWYok"
      },
      "outputs": [],
      "source": [
        "# Copyright 2022 MIT 6.S191 Introduction to Deep Learning. All Rights Reserved.\n",
        "# \n",
        "# Licensed under the MIT License. You may not use this file except in compliance\n",
        "# with the License. Use and/or modification of this code outside of 6.S191 must\n",
        "# reference:\n",
        "#\n",
        "# © MIT 6.S191: Introduction to Deep Learning\n",
        "# http://introtodeeplearning.com\n",
        "#"
      ]
    },
    {
      "cell_type": "markdown",
      "metadata": {
        "id": "WoXYKhfZMHiw"
      },
      "source": [
        "# Laboratory 3: Reinforcement Learning\n",
        "\n",
        "Reinforcement learning (RL) is a subset of machine learning which poses learning problems as interactions between agents and environments. It often assumes agents have no prior knowledge of a world, so they must learn to navigate environments by optimizing a reward function. Within an environment, an agent can take certain actions and receive feedback, in the form of positive or negative rewards, with respect to their decision. As such, an agent's feedback loop is somewhat akin to the idea of \"trial and error\", or the manner in which a child might learn to distinguish between \"good\" and \"bad\" actions.\n",
        "\n",
        "In practical terms, our RL agent will interact with the environment by taking an action at each timestep, receiving a corresponding reward, and updating its state according to what it has \"learned\".  \n",
        "\n",
        "![alt text](https://www.kdnuggets.com/images/reinforcement-learning-fig1-700.jpg)\n",
        "\n",
        "While the ultimate goal of reinforcement learning is to teach agents to act in the real, physical world, simulated environments -- like games and simulation engines -- provide a convenient proving ground for developing RL algorithms and agents.\n",
        "\n",
        "In previous labs, we have explored both supervised (with LSTMs, CNNs) and unsupervised / semi-supervised (with VAEs) learning tasks. Reinforcement learning is fundamentally different, in that we are training a deep learning algorithm to govern the actions of our RL agent, that is trying, within its environment, to find the optimal way to achieve a goal. The goal of training an RL agent is to determine the best next step to take to earn the greatest final payoff or return. In this lab, we focus on building a reinforcement learning algorithm to master two different environments with varying complexity. \n",
        "\n",
        "1.   **Cartpole**:   Balance a pole, protruding from a cart, in an upright position by only moving the base left or right. Environment with a low-dimensional observation space.\n",
        "2.   [**Driving in VISTA**](https://www.mit.edu/~amini/pubs/pdf/learning-in-simulation-vista.pdf): Learn a driving control policy for an autonomous vehicle, end-to-end from raw pixel inputs and entirely in the data-driven simulation environment of VISTA. Environment with a high-dimensional observation space -- learning directly from raw pixels.\n",
        "\n",
        "Let's get started! First we'll import TensorFlow, the course package, and some dependencies.\n"
      ]
    },
    {
      "cell_type": "code",
      "execution_count": 11,
      "metadata": {
        "id": "KR9QHuleJ9Bh",
        "outputId": "394c76ec-4958-45ca-fa6f-cec67bc05c48",
        "colab": {
          "base_uri": "https://localhost:8080/"
        }
      },
      "outputs": [
        {
          "output_type": "stream",
          "name": "stdout",
          "text": [
            "Installing MIT deep learning package... Done\n"
          ]
        }
      ],
      "source": [
        "# Import Tensorflow 2.0\n",
        "%tensorflow_version 2.x\n",
        "import tensorflow as tf\n",
        "\n",
        "gpus = tf.config.experimental.list_physical_devices('GPU')\n",
        "if gpus:\n",
        "    for gpu in gpus:\n",
        "        tf.config.experimental.set_memory_growth(gpu, True)\n",
        "\n",
        "# Download and import the MIT 6.S191 package\n",
        "!printf \"Installing MIT deep learning package... \"\n",
        "!pip install --upgrade git+https://github.com/aamini/introtodeeplearning.git &> /dev/null\n",
        "!echo \"Done\""
      ]
    },
    {
      "cell_type": "code",
      "execution_count": 12,
      "metadata": {
        "id": "EvdePP-VyVWp"
      },
      "outputs": [],
      "source": [
        "#Install some dependencies for visualizing the agents\n",
        "!apt-get install -y xvfb python-opengl x11-utils &> /dev/null\n",
        "!pip install gym pyvirtualdisplay scikit-video ffio pyrender &> /dev/null\n",
        "!pip install tensorflow_probability==0.12.0 &> /dev/null\n",
        "import os\n",
        "os.environ['PYOPENGL_PLATFORM'] = 'egl'\n",
        "\n",
        "import numpy as np\n",
        "import matplotlib, cv2\n",
        "import matplotlib.pyplot as plt\n",
        "import base64, io, os, time, gym\n",
        "import IPython, functools\n",
        "import time\n",
        "from tqdm import tqdm\n",
        "import tensorflow_probability as tfp\n",
        "\n",
        "import mitdeeplearning as mdl"
      ]
    },
    {
      "cell_type": "markdown",
      "metadata": {
        "id": "zmrHSiXKTXTY"
      },
      "source": [
        "Before we dive in, let's take a step back and outline our approach, which is generally applicable to reinforcement learning problems in general:\n",
        "\n",
        "1. **Initialize our environment and our agent**: here we will describe the different observations and actions the agent can make in the environemnt.\n",
        "2. **Define our agent's memory**: this will enable the agent to remember its past actions, observations, and rewards.\n",
        "3. **Define a reward function**: describes the reward associated with an action or sequence of actions.\n",
        "4. **Define the learning algorithm**: this will be used to reinforce the agent's good behaviors and discourage bad behaviors.\n"
      ]
    },
    {
      "cell_type": "markdown",
      "metadata": {
        "id": "UT7YL8KBJIIc"
      },
      "source": [
        "# Part 1: Cartpole\n",
        "\n",
        "## 3.1 Define the Cartpole environment and agent\n",
        "\n",
        "### Environment \n",
        "\n",
        "In order to model the environment for the Cartpole task, we'll be using a toolkit developed by OpenAI called [OpenAI Gym](https://gym.openai.com/). It provides several pre-defined environments for training and testing reinforcement learning agents, including those for classic physics control tasks, Atari video games, and robotic simulations. To access the Cartpole environment, we can use `env = gym.make(\"CartPole-v0\")`, which we gained access to when we imported the `gym` package. We can instantiate different [environments](https://gym.openai.com/envs/#classic_control) by passing the enivronment name to the `make` function.\n",
        "\n",
        "One issue we might experience when developing RL algorithms is that many aspects of the learning process are inherently random: initializing game states, changes in the environment, and the agent's actions. As such, it can be helpful to set a initial \"seed\" for the environment to ensure some level of reproducibility. Much like you might use `numpy.random.seed`, we can call the comparable function in gym, `seed`, with our defined environment to ensure the environment's random variables are initialized the same each time."
      ]
    },
    {
      "cell_type": "code",
      "execution_count": 13,
      "metadata": {
        "id": "quv9SC0iIYFm",
        "outputId": "c83bff92-6d9a-4c84-eba3-9b9d990606a4",
        "colab": {
          "base_uri": "https://localhost:8080/"
        }
      },
      "outputs": [
        {
          "output_type": "execute_result",
          "data": {
            "text/plain": [
              "[1]"
            ]
          },
          "metadata": {},
          "execution_count": 13
        }
      ],
      "source": [
        "### Instantiate the Cartpole environment ###\n",
        "\n",
        "env = gym.make(\"CartPole-v1\")\n",
        "env.seed(1)"
      ]
    },
    {
      "cell_type": "markdown",
      "metadata": {
        "id": "mhEITUcKK455"
      },
      "source": [
        "In Cartpole, a pole is attached by an un-actuated joint to a cart, which moves along a frictionless track. The pole starts upright, and the goal is to prevent it from falling over. The system is controlled by applying a force of +1 or -1 to the cart. A reward of +1 is provided for every timestep that the pole remains upright. The episode ends when the pole is more than 15 degrees from vertical, or the cart moves more than 2.4 units from the center of the track. A visual summary of the cartpole environment is depicted below:\n",
        "\n",
        "<img width=\"400px\" src=\"https://danielpiedrahita.files.wordpress.com/2017/02/cart-pole.png\"></img>\n",
        "\n",
        "Given this setup for the environment and the objective of the game, we can think about: 1) what observations help define the environment's state; 2) what actions the agent can take. \n",
        "\n",
        "First, let's consider the observation space. In this Cartpole environment our observations are:\n",
        "\n",
        "1. Cart position\n",
        "2. Cart velocity\n",
        "3. Pole angle\n",
        "4. Pole rotation rate\n",
        "\n",
        "We can confirm the size of the space by querying the environment's observation space:\n"
      ]
    },
    {
      "cell_type": "code",
      "execution_count": 14,
      "metadata": {
        "id": "UVJaEcbdIX82",
        "outputId": "e92ecd2a-d0c4-499a-a7e6-06912612b832",
        "colab": {
          "base_uri": "https://localhost:8080/"
        }
      },
      "outputs": [
        {
          "output_type": "stream",
          "name": "stdout",
          "text": [
            "Environment has observation space = Box(-3.4028234663852886e+38, 3.4028234663852886e+38, (4,), float32)\n"
          ]
        }
      ],
      "source": [
        "n_observations = env.observation_space\n",
        "print(\"Environment has observation space =\", n_observations)"
      ]
    },
    {
      "cell_type": "markdown",
      "metadata": {
        "id": "ZibGgjrALgPM"
      },
      "source": [
        "Second, we consider the action space. At every time step, the agent can move either right or left. Again we can confirm the size of the action space by querying the environment:"
      ]
    },
    {
      "cell_type": "code",
      "execution_count": 15,
      "metadata": {
        "id": "qc9SIPxBIXrm",
        "outputId": "9ce4a6a9-9291-4a13-b443-104e3f251e15",
        "colab": {
          "base_uri": "https://localhost:8080/"
        }
      },
      "outputs": [
        {
          "output_type": "stream",
          "name": "stdout",
          "text": [
            "Number of possible actions that the agent can choose from = 2\n"
          ]
        }
      ],
      "source": [
        "n_actions = env.action_space.n\n",
        "print(\"Number of possible actions that the agent can choose from =\", n_actions)"
      ]
    },
    {
      "cell_type": "markdown",
      "metadata": {
        "id": "pPfHME8aRKkb"
      },
      "source": [
        "### Cartpole agent\n",
        "\n",
        "Now that we have instantiated the environment and understood the dimensionality of the observation and action spaces, we are ready to define our agent. In deep reinforcement learning, a deep neural network defines the agent. This network will take as input an observation of the environment and output the probability of taking each of the possible actions. Since Cartpole is defined by a low-dimensional observation space, a simple feed-forward neural network should work well for our agent. We will define this using the `Sequential` API.\n"
      ]
    },
    {
      "cell_type": "code",
      "execution_count": 25,
      "metadata": {
        "id": "W-o_XK4oQ4eu"
      },
      "outputs": [],
      "source": [
        "### Define the Cartpole agent ###\n",
        "\n",
        "# Defines a feed-forward neural network\n",
        "def create_cartpole_model():\n",
        "    model = tf.keras.models.Sequential([\n",
        "        # First Dense layer\n",
        "        tf.keras.layers.Dense(units=32, activation='relu'),\n",
        "        \n",
        "        # TODO: Define the last Dense layer, which will provide the network's output.\n",
        "        # Think about the space the agent needs to act in!\n",
        "        # ['''TODO''' Dense layer to output action probabilities]\n",
        "        # Why do define this as \n",
        "        tf.keras.layers.Dense(units=n_actions, activation=None)\n",
        "    ])\n",
        "    return model\n",
        "\n",
        "cartpole_model = create_cartpole_model()"
      ]
    },
    {
      "cell_type": "markdown",
      "metadata": {
        "id": "d5D5NSIYS2IW"
      },
      "source": [
        "Now that we have defined the core network architecture, we will define an *action function* that executes a forward pass through the network, given a set of observations, and samples from the output. This sampling from the output probabilities will be used to select the next action for the agent. We will also add support so that the `choose_action` function can handle either a single observation or a batch of observations.\n",
        "\n",
        "**Critically, this action function is totally general -- we will use this function for learning control algorithms for Cartpole, but it is applicable to other RL tasks, as well!**"
      ]
    },
    {
      "cell_type": "code",
      "execution_count": 26,
      "metadata": {
        "id": "E_vVZRr8Q4R_"
      },
      "outputs": [],
      "source": [
        "### Define the agent's action function ###\n",
        "\n",
        "# Function that takes observations as input, executes a forward pass through model, \n",
        "#   and outputs a sampled action.\n",
        "# Arguments:\n",
        "#   model: the network that defines our agent\n",
        "#   observation: observation(s) which is/are fed as input to the model\n",
        "#   single: flag as to whether we are handling a single observation or batch of\n",
        "#     observations, provided as an np.array\n",
        "# Returns:\n",
        "#   action: choice of agent action\n",
        "def choose_action(model, observation, single=True):\n",
        "    # add batch dimension to the observation if only a single example was provided\n",
        "    observation = np.expand_dims(observation, axis=0) if single else observation\n",
        "\n",
        "    '''TODO: feed the observations through the model to predict the log probabilities of each possible action.'''\n",
        "    logits = model.predict(observation)\n",
        "\n",
        "    '''TODO: Choose an action from the categorical distribution defined by the log \n",
        "       probabilities of each possible action.'''\n",
        "    # action = ['''TODO''']\n",
        "\n",
        "    action = tf.random.categorical(logits, num_samples=1)\n",
        "\n",
        "    action = action.numpy().flatten()\n",
        "\n",
        "    return action[0] if single else action"
      ]
    },
    {
      "cell_type": "markdown",
      "metadata": {
        "id": "_tR9uAWcTnkr"
      },
      "source": [
        "## 3.2 Define the agent's memory\n",
        "\n",
        "Now that we have instantiated the environment and defined the agent network architecture and action function, we are ready to move on to the next step in our RL workflow:\n",
        "1. **Initialize our environment and our agent**: here we will describe the different observations and actions the agent can make in the environemnt.\n",
        "2. **Define our agent's memory**: this will enable the agent to remember its past actions, observations, and rewards.\n",
        "3. **Define the learning algorithm**: this will be used to reinforce the agent's good behaviors and discourage bad behaviors.\n",
        "\n",
        "In reinforcement learning, training occurs alongside the agent's acting in the environment; an *episode* refers to a sequence of actions that ends in some terminal state, such as the pole falling down or the cart crashing. The agent will need to remember all of its observations and actions, such that once an episode ends, it can learn to \"reinforce\" the good actions and punish the undesirable actions via training. Our first step is to define a simple `Memory` buffer that contains the agent's observations, actions, and received rewards from a given episode. We will also add support to combine a list of `Memory` objects into a single `Memory`. This will be very useful for batching, which will help you accelerate training later on in the lab.\n",
        "\n",
        "**Once again, note the modularity of this memory buffer -- it can and will be applied to other RL tasks as well!**"
      ]
    },
    {
      "cell_type": "code",
      "execution_count": 27,
      "metadata": {
        "id": "8MM6JwXVQ4JG"
      },
      "outputs": [],
      "source": [
        "### Agent Memory ###\n",
        "\n",
        "class Memory:\n",
        "    def __init__(self): \n",
        "        self.clear()\n",
        "\n",
        "  # Resets/restarts the memory buffer\n",
        "    def clear(self): \n",
        "        self.observations = []\n",
        "        self.actions = []\n",
        "        self.rewards = []\n",
        "\n",
        "  # Add observations, actions, rewards to memory\n",
        "    def add_to_memory(self, new_observation, new_action, new_reward): \n",
        "        self.observations.append(new_observation)\n",
        "        \n",
        "        '''TODO: update the list of actions with new action'''\n",
        "        self.actions.append(new_action)\n",
        "\n",
        "        '''TODO: update the list of rewards with new reward'''\n",
        "        self.rewards.append(new_reward)\n",
        "\n",
        "    def __len__(self):\n",
        "        return len(self.actions)\n",
        "\n",
        "# Instantiate a single Memory buffer\n",
        "memory = Memory()"
      ]
    },
    {
      "cell_type": "markdown",
      "metadata": {
        "id": "D4YhtPaUVj5m"
      },
      "source": [
        "## 3.3 Reward function\n",
        "\n",
        "We're almost ready to begin the learning algorithm for our agent! The next step is to compute the rewards of our agent as it acts in the environment. Since we (and the agent) is uncertain about if and when the game or task will end (i.e., when the pole will fall), it is useful to emphasize getting rewards **now** rather than later in the future -- this is the idea of discounting. This is a similar concept to discounting money in the case of interest. Recall from lecture, we use reward discount to give more preference at getting rewards now rather than later in the future. The idea of discounting rewards is similar to discounting money in the case of interest.\n",
        "\n",
        "To compute the expected cumulative reward, known as the **return**, at a given timestep in a learning episode, we sum the discounted rewards expected at that time step $t$, within a learning episode, and projecting into the future. We define the return (cumulative reward) at a time step $t$, $R_{t}$ as:\n",
        "\n",
        ">$R_{t}=\\sum_{k=0}^\\infty\\gamma^kr_{t+k}$\n",
        "\n",
        "where  $0 < \\gamma < 1$ is the discount factor and $r_{t}$ is the reward at time step $t$, and the index $k$ increments projection into the future within a single learning episode. Intuitively, you can think of this function as depreciating any rewards received at later time steps, which will force the agent prioritize getting rewards now. Since we can't extend episodes to infinity, in practice the computation will be limited to the number of timesteps in an episode -- after that the reward is assumed to be zero.\n",
        "\n",
        "Take note of the form of this sum -- we'll have to be clever about how we implement this function. Specifically, we'll need to initialize an array of zeros, with length of the number of time steps, and fill it with the real discounted reward values as we loop through the rewards from the episode, which will have been saved in the agents memory. What we ultimately care about is which actions are better relative to other actions taken in that episode -- so, we'll normalize our computed rewards, using the mean and standard deviation of the rewards across the learning episode.\n",
        "\n",
        "We will use this definition of the reward function in both parts of the lab so make sure you have it executed!\n"
      ]
    },
    {
      "cell_type": "code",
      "execution_count": 19,
      "metadata": {
        "id": "5_Q2OFYtQ32X"
      },
      "outputs": [],
      "source": [
        "### Reward function ###\n",
        "\n",
        "# Helper function that normalizes an np.array x\n",
        "def normalize(x):\n",
        "    x -= np.mean(x)\n",
        "    x /= np.std(x)\n",
        "    return x.astype(np.float32)\n",
        "\n",
        "# Compute normalized, discounted, cumulative rewards (i.e., return)\n",
        "# Arguments:\n",
        "#   rewards: reward at timesteps in episode\n",
        "#   gamma: discounting factor\n",
        "# Returns:\n",
        "#   normalized discounted reward\n",
        "def discount_rewards(rewards, gamma=0.95): \n",
        "    discounted_rewards = np.zeros_like(rewards)\n",
        "    R = 0\n",
        "    for t in reversed(range(0, len(rewards))):\n",
        "        # update the total discounted reward\n",
        "        R = R * gamma + rewards[t]\n",
        "        discounted_rewards[t] = R\n",
        "      \n",
        "    return normalize(discounted_rewards)"
      ]
    },
    {
      "cell_type": "markdown",
      "metadata": {
        "id": "QzbY-mjGYcmt"
      },
      "source": [
        "## 3.4 Learning algorithm\n",
        "\n",
        "Now we can start to define the learing algorithm which will be used to reinforce good behaviors of the agent and discourage bad behaviours. In this lab, we will focus on *policy gradient* methods which aim to **maximize** the likelihood of actions that result in large rewards. Equivalently, this means that we want to **minimize** the negative likelihood of these same actions. We achieve this by simply **scaling** the probabilities by their associated rewards -- effectively amplifying the likelihood of actions that resujlt in large rewards.\n",
        "\n",
        "Since the log function is monotonically increasing, this means that minimizing **negative likelihood** is equivalent to minimizing **negative log-likelihood**.  Recall that we can easily compute the negative log-likelihood of a discrete action by evaluting its [softmax cross entropy](https://www.tensorflow.org/api_docs/python/tf/nn/sparse_softmax_cross_entropy_with_logits). Like in supervised learning, we can use stochastic gradient descent methods to achieve the desired minimization. \n",
        "\n",
        "Let's begin by defining the loss function."
      ]
    },
    {
      "cell_type": "code",
      "execution_count": 20,
      "metadata": {
        "id": "fsgZ3IDCY_Zn"
      },
      "outputs": [],
      "source": [
        "### Loss function ###\n",
        "\n",
        "# Arguments:\n",
        "#   logits: network's predictions for actions to take\n",
        "#   actions: the actions the agent took in an episode\n",
        "#   rewards: the rewards the agent received in an episode\n",
        "# Returns:\n",
        "#   loss\n",
        "def compute_loss(logits, actions, rewards): \n",
        "    '''TODO: complete the function call to compute the negative log probabilities'''\n",
        "    # neg_logprob = tf.nn.sparse_softmax_cross_entropy_with_logits(\n",
        "    #    logits='''TODO''', labels='''TODO''')\n",
        "    # So basically this is going to \n",
        "    neg_logprob = tf.nn.sparse_softmax_cross_entropy_with_logits(logits=logits, labels=actions)\n",
        "  \n",
        "    '''TODO: scale the negative log probability by the rewards'''\n",
        "    loss = tf.reduce_mean(neg_logprob * rewards)\n",
        "    return loss"
      ]
    },
    {
      "cell_type": "markdown",
      "metadata": {
        "id": "Rr5vQ9fqbPpp"
      },
      "source": [
        "Now let's use the loss function to define a training step of our learning algorithm. This is a very generalizable definition which we will use "
      ]
    },
    {
      "cell_type": "code",
      "execution_count": 21,
      "metadata": {
        "id": "_50ada7nbZ7L"
      },
      "outputs": [],
      "source": [
        "### Training step (forward and backpropagation) ###\n",
        "\n",
        "def train_step(model, loss_function, optimizer, observations, actions, discounted_rewards, custom_fwd_fn=None):\n",
        "    with tf.GradientTape() as tape:\n",
        "        # Forward propagate through the agent network\n",
        "        if custom_fwd_fn is not None:\n",
        "            prediction = custom_fwd_fn(observations)\n",
        "        else: \n",
        "            prediction = model(observations)\n",
        "\n",
        "        '''TODO: call the compute_loss function to compute the loss'''\n",
        "        # loss = loss_function('''TODO''', '''TODO''', '''TODO''')\n",
        "        loss = loss_function(prediction, actions, discounted_rewards)\n",
        "\n",
        "    '''TODO: run backpropagation to minimize the loss using the tape.gradient method. \n",
        "             Unlike supervised learning, RL is *extremely* noisy, so you will benefit \n",
        "             from additionally clipping your gradients to avoid falling into \n",
        "             dangerous local minima. After computing your gradients try also clipping\n",
        "             by a global normalizer. Try different clipping values, usually clipping \n",
        "             between 0.5 and 5 provides reasonable results. '''\n",
        "    grads = tape.gradient(loss, model.trainable_variables)\n",
        "\n",
        "    grads, _ = tf.clip_by_global_norm(grads, 0.5)\n",
        "    optimizer.apply_gradients(zip(grads, model.trainable_variables))"
      ]
    },
    {
      "cell_type": "markdown",
      "metadata": {
        "id": "XsjKXh6BcgjR"
      },
      "source": [
        "## 3.5 Run cartpole!\n",
        "\n",
        "Having had no prior knowledge of the environment, the agent will begin to learn how to balance the pole on the cart based only on the feedback received from the environment! Having defined how our agent can move, how it takes in new observations, and how it updates its state, we'll see how it gradually learns a policy of actions to optimize balancing the pole as long as possible. To do this, we'll track how the rewards evolve as a function of training -- how should the rewards change as training progresses?"
      ]
    },
    {
      "cell_type": "code",
      "execution_count": 23,
      "metadata": {
        "id": "-hZ7E6JOJ9Bn"
      },
      "outputs": [],
      "source": [
        "## Training parameters ##\n",
        "## Re-run this cell to restart training from scratch ##\n",
        "\n",
        "# TODO: Learning rate and optimizer\n",
        "learning_rate = 1e-3\n",
        "\n",
        "optimizer = tf.keras.optimizers.Adam(learning_rate=learning_rate)\n",
        "\n",
        "# instantiate cartpole agent\n",
        "cartpole_model = create_cartpole_model()\n",
        "\n",
        "# to track our progress\n",
        "smoothed_reward = mdl.util.LossHistory(smoothing_factor=0.95)\n",
        "plotter = mdl.util.PeriodicPlotter(sec=2, xlabel='Iterations', ylabel='Rewards')"
      ]
    },
    {
      "cell_type": "code",
      "execution_count": 28,
      "metadata": {
        "id": "XmOzc2rrcn8Q",
        "scrolled": false,
        "outputId": "09f42393-0c66-4520-dc71-c93f221e6ca1",
        "colab": {
          "base_uri": "https://localhost:8080/",
          "height": 541
        }
      },
      "outputs": [
        {
          "output_type": "display_data",
          "data": {
            "text/plain": [
              "<Figure size 432x288 with 1 Axes>"
            ],
            "image/png": "[encoded data removed]"
          },
          "metadata": {}
        },
        {
          "output_type": "display_data",
          "data": {
            "text/plain": [
              "<Figure size 432x288 with 1 Axes>"
            ],
            "image/png": "[encoded data removed]"
          },
          "metadata": {
            "needs_background": "light"
          }
        }
      ],
      "source": [
        "## Cartpole training! ##\n",
        "## Note: stoping and restarting this cell will pick up training where you\n",
        "#        left off. To restart training you need to rerun the cell above as \n",
        "#        well (to re-initialize the model and optimizer)\n",
        "\n",
        "if hasattr(tqdm, '_instances'): tqdm._instances.clear() # clear if it exists\n",
        "for i_episode in range(500):\n",
        "\n",
        "    plotter.plot(smoothed_reward.get())\n",
        "    # Restart the environment\n",
        "    observation = env.reset()\n",
        "    memory.clear()\n",
        "\n",
        "    while True:\n",
        "        # using our observation, choose an action and take it in the environment\n",
        "        action = choose_action(cartpole_model, observation)\n",
        "        next_observation, reward, done, info = env.step(action)\n",
        "        # add to memory\n",
        "        memory.add_to_memory(observation, action, reward)\n",
        "\n",
        "        # is the episode over? did you crash or do so well that you're done?\n",
        "        if done:\n",
        "            # determine total reward and keep a record of this\n",
        "            total_reward = sum(memory.rewards)\n",
        "            smoothed_reward.append(total_reward)\n",
        "          \n",
        "            # initiate training - remember we don't know anything about how the \n",
        "            #   agent is doing until it has crashed!\n",
        "            g = train_step(cartpole_model, compute_loss, optimizer, \n",
        "                       observations=np.vstack(memory.observations),\n",
        "                       actions=np.array(memory.actions),\n",
        "                       discounted_rewards = discount_rewards(memory.rewards))\n",
        "          \n",
        "            # reset the memory\n",
        "            memory.clear()\n",
        "            break\n",
        "        # update our observatons\n",
        "        observation = next_observation"
      ]
    },
    {
      "cell_type": "markdown",
      "metadata": {
        "id": "mkcUtGF1VE-K"
      },
      "source": [
        "To get a sense of how our agent did, we can save a video of the trained model working on balancing the pole. Realize that this is a brand new environment that the agent has not seen before!\n",
        "\n",
        "Let's display the saved video to watch how our agent did!\n"
      ]
    },
    {
      "cell_type": "code",
      "execution_count": 29,
      "metadata": {
        "id": "PAYBkv6Zbk0J",
        "scrolled": true,
        "outputId": "e2234ffa-4a22-4684-99de-04c16a7fae35",
        "colab": {
          "base_uri": "https://localhost:8080/",
          "height": 439
        }
      },
      "outputs": [
        {
          "output_type": "stream",
          "name": "stdout",
          "text": [
            "Successfully saved 500 frames into CartPole-v1.mp4!\n"
          ]
        },
        {
          "output_type": "execute_result",
          "data": {
            "text/plain": [
              "<IPython.core.display.HTML object>"
            ],
            "text/html": [
              "\n",
              "        <video controls >\n",
              "            <source src=\"data:video/mp4;base64,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\" type=\"video/mp4\" />\n",
              "        </video>"
            ]
          },
          "metadata": {},
          "execution_count": 29
        }
      ],
      "source": [
        "matplotlib.use('Agg') \n",
        "saved_cartpole = mdl.lab3.save_video_of_model(cartpole_model, \"CartPole-v1\")\n",
        "mdl.lab3.play_video(saved_cartpole)"
      ]
    },
    {
      "cell_type": "markdown",
      "metadata": {
        "id": "CSbVNDpaVb3_"
      },
      "source": [
        "How does the agent perform? Could you train it for shorter amounts of time and still perform well? Do you think that training longer would help even more? "
      ]
    },
    {
      "cell_type": "markdown",
      "metadata": {
        "id": "Eu6Mqxc720ST"
      },
      "source": [
        "# Part 2: Training Autonomous Driving Policies in VISTA\n",
        "Autonomous control has traditionally be dominated by algorithms that explicitly decompose individual aspects of the control pipeline. For example, in autonomous driving, traditional methods work by first detecting road and lane boundaries, and then using path planning and rule-based methods to derive a control policy. Deep learning offers something very different -- the possibility of optimizing all these steps simultaneously, learning control end-to-end directly from raw sensory inputs.\n",
        "\n",
        "**You will explore the power of deep learning to learn autonomous control policies that are trained *end-to-end, directly from raw sensory data, and entirely within a simulated world*.**\n",
        "\n",
        "We will use the data-driven simulation engine [VISTA](https://ieeexplore.ieee.org/stamp/stamp.jsp?arnumber=8957584&tag=1), which uses techniques in computer vision to synthesize new photorealistic trajectories and driving viewpoints, that are still consistent with the world's appearance and fall within the envelope of a real driving scene. This is a powerful approach -- we can synthesize data that is photorealistic, grounded in the real world, and then use this data for training and testing autonomous vehicle control policies within this simulator.\n",
        "\n",
        "In this part of the lab, you will use reinforcement lerning to build a self-driving agent with a neural network-based controller trained on RGB camera data. We will train the self-driving agent for the task of lane following. Beyond this data modality and control task, VISTA also supports [different data modalities](https://arxiv.org/pdf/2111.12083.pdf) (such as LiDAR data) and [different learning tasks](https://arxiv.org/pdf/2111.12137.pdf) (such as multi-car interactions).\n",
        "<p align=\"center\">\n",
        "<img src=\"https://raw.githubusercontent.com/aamini/introtodeeplearning/master/lab3/img/vista_overview.png\" width=\"600\"/>\n",
        "</p>\n",
        "\n",
        "\n",
        "You will put your agent to the test in the VISTA environment, and potentially, on board a full-scale autonomous vehicle! Specifically, as part of the MIT lab competitions, high-performing agents -- evaluated based on the maximum distance they can travel without crashing -- will have the opportunity to be put to the ***real*** test onboard a full-scale autonomous vehicle!!! \n",
        "\n",
        "We start by installing dependencies. This includes installing the VISTA package itself."
      ]
    },
    {
      "cell_type": "code",
      "source": [
        "!pip install --upgrade git+https://github.com/vista-simulator/vista-6s191.git"
      ],
      "metadata": {
        "id": "WKWcagMpRLIB"
      },
      "execution_count": null,
      "outputs": []
    },
    {
      "cell_type": "code",
      "source": [
        "import vista\n",
        "from vista.utils import logging\n",
        "logging.setLevel(logging.ERROR)"
      ],
      "metadata": {
        "id": "ByV6c5GKTgHq"
      },
      "execution_count": null,
      "outputs": []
    },
    {
      "cell_type": "markdown",
      "metadata": {
        "id": "70Vpby5VJ9Bp"
      },
      "source": [
        "VISTA provides some documentation which will be very helpful to completing this lab. You can always use the `?vista` command to access the package documentation."
      ]
    },
    {
      "cell_type": "code",
      "source": [
        "### Access documentation for VISTA\n",
        "### Run ?vista.<[name of module or function]>\n",
        "?vista.Display "
      ],
      "metadata": {
        "id": "-RTw0OK4nTYi"
      },
      "execution_count": null,
      "outputs": []
    },
    {
      "cell_type": "markdown",
      "source": [
        "## 3.6 Create an environment in VISTA\n",
        "\n",
        "Environments in VISTA are based on and built from human-collected driving *traces*. A trace is the data from a single driving run. In this case we'll be working with RGB camera data, from the viewpoint of the driver looking out at the road: the camera collects this data as the car drives around!\n",
        "\n",
        "We will start by accessing a trace. We use that trace to instantiate an environment within VISTA. This is our `World` and defines the environment we will use for reinforcement learning. The trace itself helps to define a space for the environment; with VISTA, we can use the trace to generate new photorealistic viewpoints anywhere within that space. This provides valuable new training data as well as a robust testing environment.\n",
        "\n",
        "The simulated environment of VISTA will serve as our training ground and testbed for reinforcement learning. We also define an `Agent` -- a car -- that will actually move around in the environmnet, and make and carry out *actions* in this world. Because this is an entirely simulated environment, our car agent will also be simulated!\n",
        "\n"
      ],
      "metadata": {
        "id": "XauFMMZjnYxn"
      }
    },
    {
      "cell_type": "code",
      "execution_count": null,
      "metadata": {
        "scrolled": true,
        "id": "JrTpTBJsJ9Bp"
      },
      "outputs": [],
      "source": [
        "# Download and extract the data for vista (auto-skip if already downloaded)\n",
        "!wget -nc -q --show-progress https://www.dropbox.com/s/62pao4mipyzk3xu/vista_traces.zip\n",
        "print(\"Unzipping data...\")\n",
        "!unzip -o -q vista_traces.zip\n",
        "print(\"Done downloading and unzipping data!\")\n",
        "\n",
        "trace_root = \"./vista_traces\"\n",
        "trace_path = [\n",
        "    \"20210726-154641_lexus_devens_center\", \n",
        "    \"20210726-155941_lexus_devens_center_reverse\", \n",
        "    \"20210726-184624_lexus_devens_center\", \n",
        "    \"20210726-184956_lexus_devens_center_reverse\", \n",
        "]\n",
        "trace_path = [os.path.join(trace_root, p) for p in trace_path]\n",
        "\n",
        "# Create a virtual world with VISTA, the world is defined by a series of data traces\n",
        "world = vista.World(trace_path, trace_config={'road_width': 4})\n",
        "\n",
        "# Create a car in our virtual world. The car will be able to step and take different \n",
        "#   control actions. As the car moves, its sensors will simulate any changes it environment\n",
        "car = world.spawn_agent(\n",
        "    config={\n",
        "        'length': 5.,\n",
        "        'width': 2.,\n",
        "        'wheel_base': 2.78,\n",
        "        'steering_ratio': 14.7,\n",
        "        'lookahead_road': True\n",
        "    })\n",
        "\n",
        "# Create a camera on the car for synthesizing the sensor data that we can use to train with! \n",
        "camera = car.spawn_camera(config={'size': (200, 320)})\n",
        "\n",
        "# Define a rendering display so we can visualize the simulated car camera stream and also \n",
        "#   get see its physical location with respect to the road in its environment. \n",
        "display = vista.Display(world, display_config={\"gui_scale\": 2, \"vis_full_frame\": False})\n",
        "\n",
        "# Define a simple helper function that allows us to reset VISTA and the rendering display\n",
        "def vista_reset():\n",
        "    world.reset()\n",
        "    display.reset()\n",
        "vista_reset()"
      ]
    },
    {
      "cell_type": "markdown",
      "source": [
        "If successful, you should see a blank black screen at this point. Your rendering display has  been initialized."
      ],
      "metadata": {
        "id": "aa3sA9FKndIx"
      }
    },
    {
      "cell_type": "markdown",
      "source": [
        "## 3.7 Our virtual agent: the car\n",
        "\n",
        "Our goal is to learn a control policy for our agent, our (hopefully) autonomous vehicle, end-to-end directly from RGB camera sensory input. As in Cartpole, we need to define how our virtual agent will interact with its environment.\n",
        "\n",
        "### Define agent's action functions\n",
        "In the case of driving, the car agent can act -- taking a step in the VISTA environment -- according to a given control command. This amounts to moving with a desired speed and a desired *curvature*, which reflects the car's turn radius. Curvature has units $\\frac{1}{meter}$. So, if a car is traversing a circle of radius $r$ meters, then it is turning with a curvature $\\frac{1}{r}$. The curvature is therefore correlated with the car's steering wheel angle, which actually controls its turn radius. Let's define the car agent's step function to capture the action of moving with a desired speed and desired curvature."
      ],
      "metadata": {
        "id": "rNzwTTwzngQH"
      }
    },
    {
      "cell_type": "code",
      "execution_count": null,
      "metadata": {
        "id": "ZjFecj3WJ9Bp"
      },
      "outputs": [],
      "source": [
        "# First we define a step function, to allow our virtual agent to step \n",
        "# with a given control command through the environment \n",
        "# agent can act with a desired curvature (turning radius, like steering angle)\n",
        "# and desired speed. if either is not provided then this step function will \n",
        "# use whatever the human executed at that time in the real data.\n",
        "\n",
        "def vista_step(curvature=None, speed=None):\n",
        "    # Arguments:\n",
        "    #   curvature: curvature to step with\n",
        "    #   speed: speed to step with\n",
        "    if curvature is None: \n",
        "        curvature = car.trace.f_curvature(car.timestamp)\n",
        "    if speed is None: \n",
        "        speed = car.trace.f_speed(car.timestamp)\n",
        "    \n",
        "    car.step_dynamics(action=np.array([curvature, speed]), dt=1/15.)\n",
        "    car.step_sensors()"
      ]
    },
    {
      "cell_type": "markdown",
      "metadata": {
        "id": "aRmV3GtkJ9Bp"
      },
      "source": [
        "### Inspect driving trajectories in VISTA\n",
        "\n",
        "Recall that our VISTA environment is based off an initial human-collected driving trace. Also, we defined the agent's step function to defer to what the human executed if it is not provided with a desired speed and curvature with which to move.\n",
        "\n",
        "Thus, we can further inspect our environment by using the step function for the driving agent to move through the environment by following the human path. The stepping and iteration will take about 1 iteration per second. We will then observe the data that comes out to see the agent's traversal of the environment."
      ]
    },
    {
      "cell_type": "code",
      "execution_count": null,
      "metadata": {
        "id": "rp8G7eirJ9Bp"
      },
      "outputs": [],
      "source": [
        "import shutil, os, subprocess, cv2\n",
        "\n",
        "# Create a simple helper class that will assist us in storing videos of the render\n",
        "class VideoStream():\n",
        "    def __init__(self):\n",
        "        self.tmp = \"./tmp\"\n",
        "        if os.path.exists(self.tmp) and os.path.isdir(self.tmp):\n",
        "            shutil.rmtree(self.tmp)\n",
        "        os.mkdir(self.tmp)\n",
        "    def write(self, image, index):\n",
        "        cv2.imwrite(os.path.join(self.tmp, f\"{index:04}.png\"), image)\n",
        "    def save(self, fname):\n",
        "        cmd = f\"/usr/bin/ffmpeg -f image2 -i {self.tmp}/%04d.png -crf 0 -y {fname}\"\n",
        "        subprocess.call(cmd, shell=True)\n",
        "        "
      ]
    },
    {
      "cell_type": "code",
      "execution_count": null,
      "metadata": {
        "scrolled": true,
        "id": "MlC5t0dyJ9Bq"
      },
      "outputs": [],
      "source": [
        "## Render and inspect a human trace ##\n",
        "\n",
        "vista_reset()\n",
        "stream = VideoStream()\n",
        "\n",
        "for i in tqdm(range(100)):\n",
        "    vista_step()\n",
        "    \n",
        "    # Render and save the display\n",
        "    vis_img = display.render()\n",
        "    stream.write(vis_img[:, :, ::-1], index=i)\n",
        "    if car.done: \n",
        "        break\n",
        "\n",
        "print(\"Saving trajectory of human following...\")\n",
        "stream.save(\"human_follow.mp4\")      \n",
        "mdl.lab3.play_video(\"human_follow.mp4\")"
      ]
    },
    {
      "cell_type": "markdown",
      "source": [
        "Check out the simulated VISTA environment. What do you notice about the environment, the agent, and the setup of the simulation engine? How could these aspects useful for training models?"
      ],
      "metadata": {
        "id": "SCeRDuqV-bye"
      }
    },
    {
      "cell_type": "markdown",
      "metadata": {
        "id": "CvJCRINbJ9Bq"
      },
      "source": [
        "### Define terminal states: crashing! (oh no)\n",
        "\n",
        "Recall from Cartpole, our training episodes ended when the pole toppled, i.e., the agent crashed and failed. Similarly for training vehicle control policies in VISTA, we have to define what a ***crash*** means. We will define a crash as any time the car moves out of its lane or exceeds its maximum rotation. This will define the end of a training episode."
      ]
    },
    {
      "cell_type": "code",
      "execution_count": null,
      "metadata": {
        "id": "2_6U_VAFJ9Bq"
      },
      "outputs": [],
      "source": [
        "## Define terminal states and crashing conditions ##\n",
        "\n",
        "def check_out_of_lane(car):\n",
        "    distance_from_center = np.abs(car.relative_state.x)\n",
        "    road_width = car.trace.road_width \n",
        "    half_road_width = road_width / 2\n",
        "    return distance_from_center > half_road_width\n",
        "\n",
        "def check_exceed_max_rot(car):\n",
        "    maximal_rotation = np.pi / 10.\n",
        "    current_rotation = np.abs(car.relative_state.yaw)\n",
        "    return current_rotation > maximal_rotation\n",
        "\n",
        "def check_crash(car): \n",
        "    return check_out_of_lane(car) or check_exceed_max_rot(car) or car.done"
      ]
    },
    {
      "cell_type": "markdown",
      "metadata": {
        "id": "YFXUZ8ppJ9Bq"
      },
      "source": [
        "### Quick check: acting with a random control policy\n",
        "\n",
        "At this point, we have (1) an environment; (2) an agent, with a step function. Before we start learning a control policy for our vehicle agent, we start by testing out the behavior of the agent in the virtual world by providing it with a completely random control policy. Naturally we expect that the behavior will not be very robust! Let's take a look."
      ]
    },
    {
      "cell_type": "code",
      "execution_count": null,
      "metadata": {
        "id": "ZIyI5MqwJ9Bq"
      },
      "outputs": [],
      "source": [
        "## Behavior with random control policy ##\n",
        "\n",
        "i = 0\n",
        "num_crashes = 5\n",
        "stream = VideoStream()\n",
        "\n",
        "for _ in range(num_crashes):\n",
        "    vista_reset()\n",
        "    \n",
        "    while not check_crash(car):\n",
        "\n",
        "        # Sample a random curvature (between +/- 1/3), keep speed constant\n",
        "        curvature = np.random.uniform(-1/3, 1/3)\n",
        "\n",
        "        # Step the simulated car with the same action\n",
        "        vista_step(curvature=curvature)\n",
        "\n",
        "        # Render and save the display\n",
        "        vis_img = display.render()\n",
        "        stream.write(vis_img[:, :, ::-1], index=i)\n",
        "        i += 1\n",
        "    \n",
        "    print(f\"Car crashed on step {i}\")\n",
        "    for _ in range(5):\n",
        "        stream.write(vis_img[:, :, ::-1], index=i)\n",
        "        i += 1\n",
        "\n",
        "print(\"Saving trajectory with random policy...\")\n",
        "stream.save(\"random_policy.mp4\")\n",
        "mdl.lab3.play_video(\"random_policy.mp4\")"
      ]
    },
    {
      "cell_type": "markdown",
      "metadata": {
        "id": "OL02qW5vJ9Br"
      },
      "source": [
        "## 3.8 Preparing to learn a control policy: data preprocessing\n",
        "\n",
        "So, hopefully you saw that the random control policy was, indeed, not very robust. Yikes. Our overall goal in this lab is to build a self-driving agent using a neural network controller trained entirely in the simulator VISTA. This means that the data used to train and test the self-driving agent will be supplied by VISTA. As a step towards this, we will do some data preprocessing to make it easier for the network to learn from these visual data.\n",
        "\n",
        "Previously we rendered the data with a display as a quick check that the environment was working properly. For training the agent, we will directly access the car's observations, extract Regions Of Interest (ROI) from those observations, crop them out, and use these crops as training data for our self-driving agent controller. Observe both the full observation and the extracted ROI."
      ]
    },
    {
      "cell_type": "code",
      "execution_count": null,
      "metadata": {
        "id": "4UxX6mk5J9Br"
      },
      "outputs": [],
      "source": [
        "from google.colab.patches import cv2_imshow\n",
        "\n",
        "# Directly access the raw sensor observations of the simulated car\n",
        "vista_reset()\n",
        "full_obs = car.observations[camera.name]\n",
        "cv2_imshow(full_obs)"
      ]
    },
    {
      "cell_type": "code",
      "source": [
        "## ROIs ##\n",
        "\n",
        "# Crop a smaller region of interest (ROI). This is necessary because: \n",
        "#   1. The full observation will have distortions on the edge as the car deviates from the human\n",
        "#   2. A smaller image of the environment will be easier for our model to learn from\n",
        "region_of_interest = camera.camera_param.get_roi()\n",
        "i1, j1, i2, j2 = region_of_interest\n",
        "cropped_obs = full_obs[i1:i2, j1:j2]\n",
        "cv2_imshow(cropped_obs)"
      ],
      "metadata": {
        "id": "KAH-5uxrbkng"
      },
      "execution_count": null,
      "outputs": []
    },
    {
      "cell_type": "markdown",
      "metadata": {
        "id": "znxypklaJ9Br"
      },
      "source": [
        "We will group these steps into some helper functions that we can use during training: \n",
        "1. `preprocess`: takes a full observation as input and returns a preprocessed version. This can include whatever preprocessing steps you would like! For example, ROI extraction, cropping, augmentations, and so on. You are welcome to add and modify this function as you seek to optimize your self-driving agent!\n",
        "2. `grab_and_preprocess`: grab the car's current observation (i.e., image view from its perspective), and then call the `preprocess` function on that observation."
      ]
    },
    {
      "cell_type": "code",
      "execution_count": null,
      "metadata": {
        "id": "7GQY_UwSJ9Br"
      },
      "outputs": [],
      "source": [
        "## Data preprocessing functions ##\n",
        "\n",
        "def preprocess(full_obs):\n",
        "    # Extract ROI\n",
        "    i1, j1, i2, j2 = camera.camera_param.get_roi()\n",
        "    obs = full_obs[i1:i2, j1:j2]\n",
        "    \n",
        "    # Rescale to [0, 1]\n",
        "    obs = obs / 255.\n",
        "    return obs\n",
        "\n",
        "def grab_and_preprocess_obs(car):\n",
        "    full_obs = car.observations[camera.name]\n",
        "    obs = preprocess(full_obs)\n",
        "    return obs"
      ]
    },
    {
      "cell_type": "markdown",
      "metadata": {
        "id": "WAueY4PfJ9Br"
      },
      "source": [
        "## 3.9 Define the self-driving agent and learning algorithm\n",
        "\n",
        "As before, we'll use a neural network to define our agent and output actions that it will take. Fixing the agent's driving speed, we will train this network to predict a curvature -- a continuous value -- that will relate to the car's turn radius. Specifically, define the model to output a prediction of a continuous distribution of curvature, defined by a mean $\\mu$ and standard deviation $\\sigma$. These parameters will define a Normal distribution over curvature.\n",
        "\n",
        "What network architecture do you think would be especially well suited to the task of end-to-end control learning from RGB images? Since our observations are in the form of RGB images, we'll start with a convolutional network. Note that you will be tasked with completing a template CNN architecture for the self-driving car agent -- but you should certainly experiment beyond this template to try to optimize performance!"
      ]
    },
    {
      "cell_type": "code",
      "execution_count": null,
      "metadata": {
        "id": "f-pAQA7zJ9Br"
      },
      "outputs": [],
      "source": [
        "### Define the self-driving agent ###\n",
        "# Note: we start with a template CNN architecture -- experiment away as you \n",
        "#   try to optimize your agent!\n",
        "\n",
        "# Functionally define layers for convenience\n",
        "# All convolutional layers will have ReLu activation\n",
        "act = tf.keras.activations.swish\n",
        "Conv2D = functools.partial(tf.keras.layers.Conv2D, padding='valid', activation=act)\n",
        "Flatten = tf.keras.layers.Flatten\n",
        "Dense = tf.keras.layers.Dense\n",
        "\n",
        "# Defines a CNN for the self-driving agent\n",
        "def create_driving_model():\n",
        "    model = tf.keras.models.Sequential([\n",
        "        # Convolutional layers\n",
        "        # First, 32 5x5 filters and 2x2 stride\n",
        "        Conv2D(filters=32, kernel_size=5, strides=2),\n",
        "\n",
        "        # TODO: define convolutional layers with 48 5x5 filters and 2x2 stride\n",
        "        # Conv2D('''TODO'''),\n",
        "\n",
        "        # TODO: define two convolutional layers with 64 3x3 filters and 2x2 stride\n",
        "        # Conv2D('''TODO'''),\n",
        "\n",
        "        Flatten(),\n",
        "\n",
        "        # Fully connected layer and output\n",
        "        Dense(units=128, activation=act),\n",
        "        \n",
        "        # TODO: define the output dimension of the last Dense layer. \n",
        "        #    Pay attention to the space the agent needs to act in.\n",
        "        #    Remember that this model is outputing a distribution of *continuous* \n",
        "        #    actions, which take a different shape than discrete actions.\n",
        "        #    How many outputs should there be to define a distribution?'''\n",
        "\n",
        "        # Dense('''TODO''')\n",
        "\n",
        "    ])\n",
        "    return model\n",
        "\n",
        "driving_model = create_driving_model()"
      ]
    },
    {
      "cell_type": "markdown",
      "metadata": {
        "id": "hlyL0HL1J9Bs"
      },
      "source": [
        "Now we will define the learing algorithm which will be used to reinforce good behaviors of the agent and discourage bad behaviours. As with Cartpole, we will use a *policy gradient* method that aims to **maximize** the likelihood of actions that result in large rewards. However, there are some key differences. In Cartpole, the agent's action space was discrete: it could only move left or right. In driving, the agent's action space is continuous: the control network is outputting a curvature, which is a continuous variable. We will define a probability distribution, defined by a mean and variance, over this continuous action space to define the possible actions the self-driving agent can take.\n",
        "\n",
        "You will define three functions that reflect these changes and form the core of the the learning algorithm:\n",
        "1. `run_driving_model`: takes an input image, and outputs a prediction of a continuous distribution of curvature. This will take the form of a Normal distribuion and will be defined using TensorFlow probability's [`tfp.distributions.Normal`](https://www.tensorflow.org/probability/api_docs/python/tfp/distributions/Normal) function, so the model's prediction will include both a mean and variance. Operates on an instance `driving_model` defined above.\n",
        "2. `compute_driving_loss`: computes the loss for a prediction that is in the form of a continuous Normal distribution. Recall as in Cartpole, computing the loss involves multiplying the predicted log probabilities by the discounted rewards. Similar to `compute_loss` in Cartpole.\n",
        "\n",
        "The `train_step` function to use the loss function to execute a training step will be the same as we used in Cartpole! This will have to be executed abov in order for the driving agent to train properly."
      ]
    },
    {
      "cell_type": "code",
      "execution_count": null,
      "metadata": {
        "id": "-UWhFhToJ9Bs"
      },
      "outputs": [],
      "source": [
        "## The self-driving learning algorithm ##\n",
        "\n",
        "# hyperparameters\n",
        "max_curvature = 1/8. \n",
        "max_std = 0.1 \n",
        "\n",
        "def run_driving_model(image):\n",
        "    # Arguments:\n",
        "    #   image: an input image\n",
        "    # Returns:\n",
        "    #   pred_dist: predicted distribution of control actions \n",
        "    single_image_input = tf.rank(image) == 3  # missing 4th batch dimension\n",
        "    if single_image_input:\n",
        "        image = tf.expand_dims(image, axis=0)\n",
        "\n",
        "    '''TODO: get the prediction of the model given the current observation.'''    \n",
        "    # distribution = ''' TODO '''\n",
        "\n",
        "    mu, logsigma = tf.split(distribution, 2, axis=1)\n",
        "    mu = max_curvature * tf.tanh(mu) # conversion\n",
        "    sigma = max_std * tf.sigmoid(logsigma) + 0.005 # conversion\n",
        "    \n",
        "    '''TODO: define the predicted distribution of curvature, given the predicted\n",
        "    mean mu and standard deviation sigma. Use a Normal distribution as defined\n",
        "    in TF probability (hint: tfp.distributions)'''\n",
        "    # pred_dist = ''' TODO '''\n",
        "  \n",
        "    return pred_dist\n",
        "\n",
        "\n",
        "def compute_driving_loss(dist, actions, rewards):\n",
        "    # Arguments:\n",
        "    #   logits: network's predictions for actions to take\n",
        "    #   actions: the actions the agent took in an episode\n",
        "    #   rewards: the rewards the agent received in an episode\n",
        "    # Returns:\n",
        "    #   loss\n",
        "    '''TODO: complete the function call to compute the negative log probabilities\n",
        "    of the agent's actions.'''\n",
        "    # neg_logprob = '''TODO'''\n",
        "\n",
        "    '''TODO: scale the negative log probability by the rewards.'''\n",
        "    # loss = tf.reduce_mean('''TODO''')\n",
        "    return loss\n"
      ]
    },
    {
      "cell_type": "markdown",
      "metadata": {
        "id": "fCCMKLaIJ9Bs"
      },
      "source": [
        "## 3.10 Train the self-driving agent\n",
        "\n",
        "We're now all set up to start training our RL algorithm and agent for autonomous driving!\n",
        "\n",
        "We begin be initializing an opitimizer, environment, a new driving agent, and `Memory` buffer. This will be in the first code block. To restart training completely, you will need to re-run this cell to re-initiailize everything.\n",
        "\n",
        "The second code block is the main training script. Here reinforcement learning episodes will be executed by agents in the VISTA environment. Since the self-driving agent starts out with literally zero knowledge of its environment, it can often take a long time to train and achieve stable behavior -- keep this in mind! For convenience, stopping and restarting the second cell will pick up training where you left off.\n",
        "\n",
        "The training block will execute a policy in the environment until the agent crashes. When the agent crashes, the (state, action, reward) triplet `(s,a,r)` of the agent at the end of the episode will be saved into the `Memory` buffer, and then provided as input to the policy gradient loss function. This information will be used to execute optimization within the training step. Memory will be cleared, and we will then do it all over again!\n",
        "\n",
        "Let's run the code block to train our self-driving agent. We will again visualize the evolution of the total reward as a function of training to get a sense of how the agent is learning. **You should reach a reward of at least 100 to get bare minimum stable behavior.**"
      ]
    },
    {
      "cell_type": "code",
      "source": [
        "## Training parameters and initialization ##\n",
        "## Re-run this cell to restart training from scratch ##\n",
        "\n",
        "''' TODO: Learning rate and optimizer '''\n",
        "# learning_rate = '''TODO'''\n",
        "# optimizer = '''TODO'''\n",
        "\n",
        "# instantiate driving agent\n",
        "vista_reset()\n",
        "driving_model = create_driving_model()\n",
        "# NOTE: the variable driving_model will be used in run_driving_model execution\n",
        "\n",
        "# to track our progress\n",
        "smoothed_reward = mdl.util.LossHistory(smoothing_factor=0.9)\n",
        "plotter = mdl.util.PeriodicPlotter(sec=2, xlabel='Iterations', ylabel='Rewards')\n",
        "\n",
        "# instantiate Memory buffer\n",
        "memory = Memory()"
      ],
      "metadata": {
        "id": "uZGn94sJCtBb"
      },
      "execution_count": null,
      "outputs": []
    },
    {
      "cell_type": "code",
      "execution_count": null,
      "metadata": {
        "scrolled": true,
        "id": "G8GhVvZQJ9Bs"
      },
      "outputs": [],
      "source": [
        "## Driving training! Main training block. ##\n",
        "## Note: stopping and restarting this cell will pick up training where you\n",
        "#        left off. To restart training you need to rerun the cell above as \n",
        "#        well (to re-initialize the model and optimizer)\n",
        "\n",
        "max_batch_size = 300\n",
        "max_reward = float('-inf') # keep track of the maximum reward acheived during training\n",
        "if hasattr(tqdm, '_instances'): tqdm._instances.clear() # clear if it exists\n",
        "for i_episode in range(500):\n",
        "\n",
        "    plotter.plot(smoothed_reward.get())\n",
        "    # Restart the environment\n",
        "    vista_reset()\n",
        "    memory.clear()\n",
        "    observation = grab_and_preprocess_obs(car)\n",
        "\n",
        "    while True:\n",
        "        # TODO: using the car's current observation compute the desired \n",
        "        #  action (curvature) distribution by feeding it into our \n",
        "        #  driving model (use the function you already built to do this!) '''\n",
        "        # curvature_dist = '''TODO'''\n",
        "        \n",
        "        # TODO: sample from the action *distribution* to decide how to step\n",
        "        #   the car in the environment. You may want to check the documentation\n",
        "        #   for tfp.distributions.Normal online. Remember that the sampled action\n",
        "        #   should be a single scalar value after this step.\n",
        "        # curvature_action = '''TODO'''\n",
        "        \n",
        "        # Step the simulated car with the same action\n",
        "        vista_step(curvature_action)\n",
        "        observation = grab_and_preprocess_obs(car)\n",
        "               \n",
        "        # TODO: Compute the reward for this iteration. You define \n",
        "        #   the reward function for this policy, start with something \n",
        "        #   simple - for example, give a reward of 1 if the car did not \n",
        "        #   crash and a reward of 0 if it did crash.\n",
        "        #  reward = '''TODO'''\n",
        "        \n",
        "        # add to memory\n",
        "        memory.add_to_memory(observation, curvature_action, reward)\n",
        "        \n",
        "        # is the episode over? did you crash or do so well that you're done?\n",
        "        if reward == 0.0:\n",
        "            # determine total reward and keep a record of this\n",
        "            total_reward = sum(memory.rewards)\n",
        "            smoothed_reward.append(total_reward)\n",
        "            \n",
        "            # execute training step - remember we don't know anything about how the \n",
        "            #   agent is doing until it has crashed! if the training step is too large \n",
        "            #   we need to sample a mini-batch for this step.\n",
        "            batch_size = min(len(memory), max_batch_size)\n",
        "            i = np.random.choice(len(memory), batch_size, replace=False)\n",
        "            train_step(driving_model, compute_driving_loss, optimizer, \n",
        "                               observations=np.array(memory.observations)[i],\n",
        "                               actions=np.array(memory.actions)[i],\n",
        "                               discounted_rewards = discount_rewards(memory.rewards)[i], \n",
        "                               custom_fwd_fn=run_driving_model)            \n",
        "            # reset the memory\n",
        "            memory.clear()\n",
        "            break"
      ]
    },
    {
      "cell_type": "markdown",
      "metadata": {
        "id": "yevBnJCFJ9Bt"
      },
      "source": [
        "## 3.11 Evaluate the self-driving agent\n",
        "\n",
        "Finally we can put our trained self-driving agent to the test! It will execute autonomous control, in VISTA, based on the learned controller. We will evaluate how well it does based on this distance the car travels without crashing. We await the result..."
      ]
    },
    {
      "cell_type": "code",
      "execution_count": null,
      "metadata": {
        "scrolled": true,
        "id": "DzeswkSnJ9Bt"
      },
      "outputs": [],
      "source": [
        "## Evaluation block!##\n",
        "\n",
        "i_step = 0\n",
        "num_episodes = 5\n",
        "num_reset = 5\n",
        "stream = VideoStream()\n",
        "for i_episode in range(num_episodes):\n",
        "    \n",
        "    # Restart the environment\n",
        "    vista_reset()\n",
        "    observation = grab_and_preprocess_obs(car)\n",
        "    \n",
        "    print(\"rolling out in env\")\n",
        "    episode_step = 0\n",
        "    while not check_crash(car) and episode_step < 100:\n",
        "        # using our observation, choose an action and take it in the environment\n",
        "        curvature_dist = run_driving_model(observation)\n",
        "        curvature = curvature_dist.mean()[0,0]\n",
        "\n",
        "        # Step the simulated car with the same action\n",
        "        vista_step(curvature)\n",
        "        observation = grab_and_preprocess_obs(car)\n",
        "\n",
        "        vis_img = display.render()\n",
        "        stream.write(vis_img[:, :, ::-1], index=i_step)\n",
        "        i_step += 1\n",
        "        episode_step += 1\n",
        "        \n",
        "    for _ in range(num_reset):\n",
        "        stream.write(np.zeros_like(vis_img), index=i_step)\n",
        "        i_step += 1\n",
        "        \n",
        "print(f\"Average reward: {(i_step - (num_reset*num_episodes)) / num_episodes}\")\n",
        "\n",
        "print(\"Saving trajectory with trained policy...\")\n",
        "stream.save(\"trained_policy.mp4\")\n",
        "mdl.lab3.play_video(\"trained_policy.mp4\")"
      ]
    },
    {
      "cell_type": "markdown",
      "source": [
        "Congratulations for making it to this point and for training an autonomous vehicle control policy using deep neural networks and reinforcement learning! Now, with an eye towards the lab competition, think about what you can change -- about the controller model, your data, your learning algorithm... -- to improve performance even further. Below in 3.11 we have some suggestions to get you started. We hope to see your self-driving control policy put to the ***real*** test!"
      ],
      "metadata": {
        "id": "Dq6TZoYvoPyy"
      }
    },
    {
      "cell_type": "markdown",
      "source": [
        "## 3.11 Conclusion and submission information\n",
        "\n",
        "That's it! Congratulations on training two RL agents and putting them to the test! We encourage you to consider the following:\n",
        "\n",
        "* How does each agent perform?\n",
        "* How does the complexity of the self-driving car agent compare to CartPole, and how does it alter the rate at which the agent learns and its performance? \n",
        "* What are some things you could change about the agent or the learning process to potentially improve performance?\n",
        "\n",
        "Try to optimize your **self-driving car** model and algorithm to achieve improved performance.  **MIT students and affiliates will be eligible for prizes during the IAP offering. The prize for this lab includes an opportunity to test your model and algorithm onboard a full-scale autonomous vehicle in the real world.**\n",
        "\n",
        "To get you started, here are some suggested ways to improve your self-driving car model and/or RL algorithm:\n",
        "\n",
        "* different model architectures, for example recurrent models or Transformers with self-attention;\n",
        "* data augmentation and improved pre-processing;\n",
        "* different data modalities from different sensor types. VISTA also supports [LiDAR](https://driving.ca/car-culture/auto-tech/what-is-lidar-and-how-is-it-used-in-cars) and [event-based camera](https://arxiv.org/pdf/1804.01310.pdf) data, with a [new VISTA paper](https://arxiv.org/pdf/2111.12083.pdf) describing this. If you are interested in this, please contact Alexander Amini (amini@mit.edu)!\n",
        "* improved reinforcement learning algorithms, such as [PPO](https://paperswithcode.com/paper/proximal-policy-optimization-algorithms), [TRPO](https://paperswithcode.com/method/trpo), or [A3C](https://paperswithcode.com/method/a3c);\n",
        "* different reward functions for reinforcemnt learning, for example penalizing the car's distance to the lane center rather than just whether or not it crashed;\n",
        "* [Guided Policy Learning (GPL)](https://rll.berkeley.edu/gps/). Not reinforcement learning, but a powerful algorithm to leverage human data to provide additional supervision the learning task.\n",
        "\n",
        "To enter the competition, MIT students and affiliates should upload the following to the course Canvas:\n",
        "\n",
        "* Jupyter notebook with the code you used to generate your results, **with the self-driving car agent training fully executed**;\n",
        "* **saved video of your self-driving agent executing a trajectory in VISTA**;\n",
        "* printout / recording of the **maximum distance traveled by your agent** before crashing;\n",
        "* **text description and/or visual diagram** of the architecture, settings, algorithm, hyperparameters, etc you used to generate your result -- if there are any additional or interesting modifications you made to the template code, please include these in your description;\n",
        "* finally, **separate `.py` script** containing the code for your model, as well as **a function call to load your model and the final trained weights**. This will mean you will have to access and load the weights of your trained model in this script;\n",
        "\n",
        "We will evaluate your entries based on the above components, as well as potential real-time evaluation of top candidates in new VISTA environments with snow / winter traces. The link for these traces is [here](https://www.dropbox.com/s/3wxyvjfquloonqc/vista_traces_snow.zip). You are welcome to download this data and evaluate your models on it as well.\n",
        "\n",
        "Good luck!\n",
        "\n",
        "<p align=\"center\">\n",
        "<img src=\"https://media.giphy.com/media/H7rpSYHRyYgamxQNqw/giphy-downsized-large.gif\" width=\"700\"/>\n",
        "</p>"
      ],
      "metadata": {
        "id": "6c6uO21GoRfw"
      }
    },
    {
      "cell_type": "code",
      "source": [
        ""
      ],
      "metadata": {
        "id": "ac8FNK-x8gNn"
      },
      "execution_count": null,
      "outputs": []
    }
  ],
  "metadata": {
    "accelerator": "GPU",
    "colab": {
      "collapsed_sections": [
        "WoXYKhfZMHiw",
        "UT7YL8KBJIIc",
        "Eu6Mqxc720ST"
      ],
      "name": "RL.ipynb",
      "provenance": [],
      "include_colab_link": true
    },
    "kernelspec": {
      "display_name": "Python 3",
      "language": "python",
      "name": "python3"
    },
    "language_info": {
      "codemirror_mode": {
        "name": "ipython",
        "version": 3
      },
      "file_extension": ".py",
      "mimetype": "text/x-python",
      "name": "python",
      "nbconvert_exporter": "python",
      "pygments_lexer": "ipython3",
      "version": "3.9.7"
    }
  },
  "nbformat": 4,
  "nbformat_minor": 0
}